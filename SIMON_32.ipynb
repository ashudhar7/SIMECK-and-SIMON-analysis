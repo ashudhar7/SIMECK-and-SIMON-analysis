{
 "cells": [
  {
   "cell_type": "code",
   "execution_count": 1,
   "metadata": {},
   "outputs": [],
   "source": [
    "def highwaylist():\n",
    "    alph,bet,gam,pro = [],[],[],[]\n",
    "    with open('alph.txt') as ip1, open('bet.txt') as ip2, open('gam.txt') as ip3, open('pro.txt') as ip4:\n",
    "        for i1,i2,i3,i4 in zip(ip1,ip2,ip3,ip4):\n",
    "            hw.append(NMTS(int(i1.strip()),int(i2.strip()),int(i3.strip()),float(i4.strip()))) "
   ]
  },
  {
   "cell_type": "code",
   "execution_count": 2,
   "metadata": {},
   "outputs": [],
   "source": [
    "def mask_1(a,b,wshift):\n",
    "    s1=0\n",
    "    var=0\n",
    "    while(s1==0):\n",
    "        a1=(a<<(wshift))&mask\n",
    "        b1=(b<<(wshift))&mask\n",
    "        s1=a1+b1\n",
    "        if(s1==0):\n",
    "            var=var+1\n",
    "        wshift=wshift-1\n",
    "        mask1=(mask<<var)&mask\n",
    "    return mask1"
   ]
  },
  {
   "cell_type": "code",
   "execution_count": 3,
   "metadata": {},
   "outputs": [],
   "source": [
    "import math\n",
    "def weightAND(alpha1,beta1,gamma1): \n",
    "    s=(gamma1&(~(alpha1^beta1)))&mask\n",
    "    temp=bin((alpha1^beta1)&mask)\n",
    "    wt=(temp[1:].count(\"1\"))\n",
    "    if(s!=0):        \n",
    "        return -200,200\n",
    "    else:\n",
    "        return wt,math.pow(2,-wt)"
   ]
  },
  {
   "cell_type": "code",
   "execution_count": 4,
   "metadata": {},
   "outputs": [
    {
     "ename": "NameError",
     "evalue": "name 'mask' is not defined",
     "output_type": "error",
     "traceback": [
      "\u001b[0;31m---------------------------------------------------------------------------\u001b[0m",
      "\u001b[0;31mNameError\u001b[0m                                 Traceback (most recent call last)",
      "\u001b[0;32m<ipython-input-4-7036d3d09846>\u001b[0m in \u001b[0;36m<module>\u001b[0;34m\u001b[0m\n\u001b[0;32m----> 1\u001b[0;31m \u001b[0mweightAND\u001b[0m\u001b[0;34m(\u001b[0m\u001b[0;36m0x4004\u001b[0m\u001b[0;34m,\u001b[0m\u001b[0;36m0x220\u001b[0m\u001b[0;34m,\u001b[0m\u001b[0;36m0x0\u001b[0m\u001b[0;34m)\u001b[0m\u001b[0;34m\u001b[0m\u001b[0;34m\u001b[0m\u001b[0m\n\u001b[0m",
      "\u001b[0;32m<ipython-input-3-d11cf70efc79>\u001b[0m in \u001b[0;36mweightAND\u001b[0;34m(alpha1, beta1, gamma1)\u001b[0m\n\u001b[1;32m      1\u001b[0m \u001b[0;32mimport\u001b[0m \u001b[0mmath\u001b[0m\u001b[0;34m\u001b[0m\u001b[0;34m\u001b[0m\u001b[0m\n\u001b[1;32m      2\u001b[0m \u001b[0;32mdef\u001b[0m \u001b[0mweightAND\u001b[0m\u001b[0;34m(\u001b[0m\u001b[0malpha1\u001b[0m\u001b[0;34m,\u001b[0m\u001b[0mbeta1\u001b[0m\u001b[0;34m,\u001b[0m\u001b[0mgamma1\u001b[0m\u001b[0;34m)\u001b[0m\u001b[0;34m:\u001b[0m\u001b[0;34m\u001b[0m\u001b[0;34m\u001b[0m\u001b[0m\n\u001b[0;32m----> 3\u001b[0;31m     \u001b[0ms\u001b[0m\u001b[0;34m=\u001b[0m\u001b[0;34m(\u001b[0m\u001b[0mgamma1\u001b[0m\u001b[0;34m&\u001b[0m\u001b[0;34m(\u001b[0m\u001b[0;34m~\u001b[0m\u001b[0;34m(\u001b[0m\u001b[0malpha1\u001b[0m\u001b[0;34m^\u001b[0m\u001b[0mbeta1\u001b[0m\u001b[0;34m)\u001b[0m\u001b[0;34m)\u001b[0m\u001b[0;34m)\u001b[0m\u001b[0;34m&\u001b[0m\u001b[0mmask\u001b[0m\u001b[0;34m\u001b[0m\u001b[0;34m\u001b[0m\u001b[0m\n\u001b[0m\u001b[1;32m      4\u001b[0m     \u001b[0mtemp\u001b[0m\u001b[0;34m=\u001b[0m\u001b[0mbin\u001b[0m\u001b[0;34m(\u001b[0m\u001b[0;34m(\u001b[0m\u001b[0malpha1\u001b[0m\u001b[0;34m^\u001b[0m\u001b[0mbeta1\u001b[0m\u001b[0;34m)\u001b[0m\u001b[0;34m&\u001b[0m\u001b[0mmask\u001b[0m\u001b[0;34m)\u001b[0m\u001b[0;34m\u001b[0m\u001b[0;34m\u001b[0m\u001b[0m\n\u001b[1;32m      5\u001b[0m     \u001b[0mwt\u001b[0m\u001b[0;34m=\u001b[0m\u001b[0;34m(\u001b[0m\u001b[0mtemp\u001b[0m\u001b[0;34m[\u001b[0m\u001b[0;36m1\u001b[0m\u001b[0;34m:\u001b[0m\u001b[0;34m]\u001b[0m\u001b[0;34m.\u001b[0m\u001b[0mcount\u001b[0m\u001b[0;34m(\u001b[0m\u001b[0;34m\"1\"\u001b[0m\u001b[0;34m)\u001b[0m\u001b[0;34m)\u001b[0m\u001b[0;34m\u001b[0m\u001b[0;34m\u001b[0m\u001b[0m\n",
      "\u001b[0;31mNameError\u001b[0m: name 'mask' is not defined"
     ]
    }
   ],
   "source": [
    "weightAND(0x4004,0x220,0x0)"
   ]
  },
  {
   "cell_type": "code",
   "execution_count": 5,
   "metadata": {},
   "outputs": [],
   "source": [
    "#right circular shifts\n",
    "def ROR(x,r):\n",
    "    x = ((x << (SIMON_TYPE - r)) + (x >> r)) & mask\n",
    "    return x\n",
    "\n",
    "#left circular shifts\n",
    "def ROL(x,r):\n",
    "    #print(hex(x),hex(x))\n",
    "    x = ((x >> (SIMON_TYPE - r)) + (x << r)) & mask\n",
    "    #print(hex(x))\n",
    "    return x"
   ]
  },
  {
   "cell_type": "code",
   "execution_count": 6,
   "metadata": {},
   "outputs": [
    {
     "ename": "NameError",
     "evalue": "name 'SIMON_TYPE' is not defined",
     "output_type": "error",
     "traceback": [
      "\u001b[0;31m---------------------------------------------------------------------------\u001b[0m",
      "\u001b[0;31mNameError\u001b[0m                                 Traceback (most recent call last)",
      "\u001b[0;32m<ipython-input-6-e17be5e34db4>\u001b[0m in \u001b[0;36m<module>\u001b[0;34m\u001b[0m\n\u001b[1;32m      1\u001b[0m \u001b[0mx\u001b[0m\u001b[0;34m=\u001b[0m\u001b[0;36m0x2002\u001b[0m\u001b[0;34m\u001b[0m\u001b[0;34m\u001b[0m\u001b[0m\n\u001b[1;32m      2\u001b[0m \u001b[0mr\u001b[0m\u001b[0;34m=\u001b[0m\u001b[0;36m2\u001b[0m\u001b[0;34m\u001b[0m\u001b[0;34m\u001b[0m\u001b[0m\n\u001b[0;32m----> 3\u001b[0;31m \u001b[0mROL\u001b[0m\u001b[0;34m(\u001b[0m\u001b[0mx\u001b[0m\u001b[0;34m,\u001b[0m\u001b[0mr\u001b[0m\u001b[0;34m)\u001b[0m\u001b[0;34m\u001b[0m\u001b[0;34m\u001b[0m\u001b[0m\n\u001b[0m",
      "\u001b[0;32m<ipython-input-5-944f34c5e9db>\u001b[0m in \u001b[0;36mROL\u001b[0;34m(x, r)\u001b[0m\n\u001b[1;32m      7\u001b[0m \u001b[0;32mdef\u001b[0m \u001b[0mROL\u001b[0m\u001b[0;34m(\u001b[0m\u001b[0mx\u001b[0m\u001b[0;34m,\u001b[0m\u001b[0mr\u001b[0m\u001b[0;34m)\u001b[0m\u001b[0;34m:\u001b[0m\u001b[0;34m\u001b[0m\u001b[0;34m\u001b[0m\u001b[0m\n\u001b[1;32m      8\u001b[0m     \u001b[0;31m#print(hex(x),hex(x))\u001b[0m\u001b[0;34m\u001b[0m\u001b[0;34m\u001b[0m\u001b[0;34m\u001b[0m\u001b[0m\n\u001b[0;32m----> 9\u001b[0;31m     \u001b[0mx\u001b[0m \u001b[0;34m=\u001b[0m \u001b[0;34m(\u001b[0m\u001b[0;34m(\u001b[0m\u001b[0mx\u001b[0m \u001b[0;34m>>\u001b[0m \u001b[0;34m(\u001b[0m\u001b[0mSIMON_TYPE\u001b[0m \u001b[0;34m-\u001b[0m \u001b[0mr\u001b[0m\u001b[0;34m)\u001b[0m\u001b[0;34m)\u001b[0m \u001b[0;34m+\u001b[0m \u001b[0;34m(\u001b[0m\u001b[0mx\u001b[0m \u001b[0;34m<<\u001b[0m \u001b[0mr\u001b[0m\u001b[0;34m)\u001b[0m\u001b[0;34m)\u001b[0m \u001b[0;34m&\u001b[0m \u001b[0mmask\u001b[0m\u001b[0;34m\u001b[0m\u001b[0;34m\u001b[0m\u001b[0m\n\u001b[0m\u001b[1;32m     10\u001b[0m     \u001b[0;31m#print(hex(x))\u001b[0m\u001b[0;34m\u001b[0m\u001b[0;34m\u001b[0m\u001b[0;34m\u001b[0m\u001b[0m\n\u001b[1;32m     11\u001b[0m     \u001b[0;32mreturn\u001b[0m \u001b[0mx\u001b[0m\u001b[0;34m\u001b[0m\u001b[0;34m\u001b[0m\u001b[0m\n",
      "\u001b[0;31mNameError\u001b[0m: name 'SIMON_TYPE' is not defined"
     ]
    }
   ],
   "source": [
    "x=0x2002\n",
    "r=2\n",
    "ROL(x,r)"
   ]
  },
  {
   "cell_type": "code",
   "execution_count": 7,
   "metadata": {},
   "outputs": [
    {
     "name": "stdout",
     "output_type": "stream",
     "text": [
      "0x80\n"
     ]
    }
   ],
   "source": [
    "a=0x2\n",
    "b=0x82\n",
    "c=a^b\n",
    "print(hex(c))"
   ]
  },
  {
   "cell_type": "code",
   "execution_count": 8,
   "metadata": {},
   "outputs": [],
   "source": [
    "def find_diff_path(st1,st0,SIMON_ROUNDS,n):\n",
    "    lp=1             \n",
    "    temp_wt=0\n",
    "    tempdec_list=[]\n",
    "    for i in range (0,SIMON_ROUNDS):\n",
    "        #print(hex(st1),hex(st0),hex(alpha),hex(beta))\n",
    "        A=ROL(st1,alpha)\n",
    "        B=ROL(st1,beta)\n",
    "        C=ROL(st1,gamma)\n",
    "        #op=A^B\n",
    "        wt=-200\n",
    "        while(wt==-200):\n",
    "            op=hw[random.randint(0,len(hw)-1)].dz\n",
    "            #op=(random.randint(0,mask))\n",
    "            wt,wt1=weightAND(A,B,op)\n",
    "        D=op^C; E=st0^D\n",
    "        #print(wt)\n",
    "        \n",
    "        tempdec_list.append(NMTS(st1,st0,op,wt)) \n",
    "        temp_wt= temp_wt+tempdec_list[i].wt\n",
    "        \n",
    "        #update state with new valid output differential\n",
    "        st0=st1; st1=E\n",
    "    n=n+1\n",
    "    return tempdec_list, temp_wt, n\n",
    "\n",
    "#if(len(ddt)!=0):\n",
    "#            print(hex(st1),hex(st0))\n",
    "#            index=(random.randint(0,len(ddt)-1))\n",
    "#            temp_op=ddt[index].dz\n",
    "#           temp_wt,temp_wt1=weightAND(A,B,temp_op)\n",
    "#            if(temp_wt!=-200):\n",
    "#                op=temp_op\n",
    "#               wt,wt1=temp_wt,temp_wt1\n",
    "#        else:"
   ]
  },
  {
   "cell_type": "code",
   "execution_count": 9,
   "metadata": {},
   "outputs": [],
   "source": [
    "def find_best_path(st1,st0, SIMON_ROUNDS, wt_above, best_wt):\n",
    "    #print(hex(st1),hex(st0))\n",
    "    #print(hex(st1),hex(st0),'best_path')\n",
    "    #using n as index value for list\n",
    "    n=0\n",
    "    for r in range(SIMON_ROUNDS,0,-1):\n",
    "        tempdec_list, temp_wt, n = find_diff_path(st1,st0,r, n)\n",
    "        if((temp_wt+wt_above) < best_wt):\n",
    "            best_wt= temp_wt+wt_above\n",
    "            for i,j in zip(range(n-1,22), range(len(tempdec_list))):\n",
    "                dec_list[i]=(NMTS(tempdec_list[j].dx,tempdec_list[j].dy,tempdec_list[j].dz,tempdec_list[j].wt))\n",
    "        #print(n)\n",
    "        if(n<SIMON_ROUNDS):\n",
    "            st1=dec_list[n].dx\n",
    "            st0=dec_list[n].dy\n",
    "        wt_above= wt_above+dec_list[n-1].wt\n",
    "    return best_wt"
   ]
  },
  {
   "cell_type": "code",
   "execution_count": 15,
   "metadata": {},
   "outputs": [
    {
     "name": "stdout",
     "output_type": "stream",
     "text": [
      "64 3\n",
      "40 4\n",
      "38 7\n",
      "36 19\n",
      "34 55\n",
      "32 74\n",
      "Dec list is:\n",
      "0x0 0x4000 0x0 0\n",
      "0x4000 0x0 0x0 2\n",
      "0x1 0x4000 0x0 2\n",
      "0x4004 0x1 0x0 4\n",
      "0x10 0x4004 0x0 2\n",
      "0x4044 0x10 0x0 6\n",
      "0x101 0x4044 0x0 4\n",
      "0x4440 0x101 0x0 6\n",
      "0x1000 0x4440 0x0 2\n",
      "0x440 0x1000 0x0 4\n",
      "30 27676\n",
      "Dec list is:\n",
      "0x0 0x4000 0x0 0\n",
      "0x4000 0x0 0x0 2\n",
      "0x1 0x4000 0x0 2\n",
      "0x4004 0x1 0x0 4\n",
      "0x10 0x4004 0x0 2\n",
      "0x4044 0x10 0x80c0 6\n",
      "0x81c1 0x4044 0x8200 4\n",
      "0xc542 0x81c1 0x8040 4\n",
      "0x148a 0xc542 0x200 4\n",
      "0x956a 0x148a 0x0 2\n"
     ]
    },
    {
     "ename": "KeyboardInterrupt",
     "evalue": "",
     "output_type": "error",
     "traceback": [
      "\u001b[0;31m---------------------------------------------------------------------------\u001b[0m",
      "\u001b[0;31mKeyboardInterrupt\u001b[0m                         Traceback (most recent call last)",
      "\u001b[0;32m<ipython-input-15-b65c72449ab2>\u001b[0m in \u001b[0;36m<module>\u001b[0;34m\u001b[0m\n\u001b[1;32m     29\u001b[0m     \u001b[0;31m#print(hex(hw[ch].dx),hex(hw[ch].dy))\u001b[0m\u001b[0;34m\u001b[0m\u001b[0;34m\u001b[0m\u001b[0;34m\u001b[0m\u001b[0m\n\u001b[1;32m     30\u001b[0m     \u001b[0;31m#best_wt=find_best_path(st1,st0,SIMON_ROUNDS,wt_above,best_wt)\u001b[0m\u001b[0;34m\u001b[0m\u001b[0;34m\u001b[0m\u001b[0;34m\u001b[0m\u001b[0m\n\u001b[0;32m---> 31\u001b[0;31m     \u001b[0mbest_wt\u001b[0m\u001b[0;34m=\u001b[0m\u001b[0mfind_best_path\u001b[0m\u001b[0;34m(\u001b[0m\u001b[0mhw\u001b[0m\u001b[0;34m[\u001b[0m\u001b[0mch\u001b[0m\u001b[0;34m]\u001b[0m\u001b[0;34m.\u001b[0m\u001b[0mdx\u001b[0m\u001b[0;34m,\u001b[0m\u001b[0mhw\u001b[0m\u001b[0;34m[\u001b[0m\u001b[0mch\u001b[0m\u001b[0;34m]\u001b[0m\u001b[0;34m.\u001b[0m\u001b[0mdy\u001b[0m\u001b[0;34m,\u001b[0m\u001b[0mSIMON_ROUNDS\u001b[0m\u001b[0;34m,\u001b[0m\u001b[0mwt_above\u001b[0m\u001b[0;34m,\u001b[0m\u001b[0mbest_wt\u001b[0m\u001b[0;34m)\u001b[0m\u001b[0;34m\u001b[0m\u001b[0;34m\u001b[0m\u001b[0m\n\u001b[0m\u001b[1;32m     32\u001b[0m     \u001b[0mch\u001b[0m\u001b[0;34m=\u001b[0m\u001b[0mch\u001b[0m\u001b[0;34m+\u001b[0m\u001b[0;36m1\u001b[0m\u001b[0;34m\u001b[0m\u001b[0;34m\u001b[0m\u001b[0m\n\u001b[1;32m     33\u001b[0m     \u001b[0;32mif\u001b[0m\u001b[0;34m(\u001b[0m\u001b[0mbest_wt\u001b[0m\u001b[0;34m<\u001b[0m\u001b[0ms\u001b[0m\u001b[0;34m)\u001b[0m\u001b[0;34m:\u001b[0m\u001b[0;34m\u001b[0m\u001b[0;34m\u001b[0m\u001b[0m\n",
      "\u001b[0;32m<ipython-input-9-f896b0e10745>\u001b[0m in \u001b[0;36mfind_best_path\u001b[0;34m(st1, st0, SIMON_ROUNDS, wt_above, best_wt)\u001b[0m\n\u001b[1;32m      5\u001b[0m     \u001b[0mn\u001b[0m\u001b[0;34m=\u001b[0m\u001b[0;36m0\u001b[0m\u001b[0;34m\u001b[0m\u001b[0;34m\u001b[0m\u001b[0m\n\u001b[1;32m      6\u001b[0m     \u001b[0;32mfor\u001b[0m \u001b[0mr\u001b[0m \u001b[0;32min\u001b[0m \u001b[0mrange\u001b[0m\u001b[0;34m(\u001b[0m\u001b[0mSIMON_ROUNDS\u001b[0m\u001b[0;34m,\u001b[0m\u001b[0;36m0\u001b[0m\u001b[0;34m,\u001b[0m\u001b[0;34m-\u001b[0m\u001b[0;36m1\u001b[0m\u001b[0;34m)\u001b[0m\u001b[0;34m:\u001b[0m\u001b[0;34m\u001b[0m\u001b[0;34m\u001b[0m\u001b[0m\n\u001b[0;32m----> 7\u001b[0;31m         \u001b[0mtempdec_list\u001b[0m\u001b[0;34m,\u001b[0m \u001b[0mtemp_wt\u001b[0m\u001b[0;34m,\u001b[0m \u001b[0mn\u001b[0m \u001b[0;34m=\u001b[0m \u001b[0mfind_diff_path\u001b[0m\u001b[0;34m(\u001b[0m\u001b[0mst1\u001b[0m\u001b[0;34m,\u001b[0m\u001b[0mst0\u001b[0m\u001b[0;34m,\u001b[0m\u001b[0mr\u001b[0m\u001b[0;34m,\u001b[0m \u001b[0mn\u001b[0m\u001b[0;34m)\u001b[0m\u001b[0;34m\u001b[0m\u001b[0;34m\u001b[0m\u001b[0m\n\u001b[0m\u001b[1;32m      8\u001b[0m         \u001b[0;32mif\u001b[0m\u001b[0;34m(\u001b[0m\u001b[0;34m(\u001b[0m\u001b[0mtemp_wt\u001b[0m\u001b[0;34m+\u001b[0m\u001b[0mwt_above\u001b[0m\u001b[0;34m)\u001b[0m \u001b[0;34m<\u001b[0m \u001b[0mbest_wt\u001b[0m\u001b[0;34m)\u001b[0m\u001b[0;34m:\u001b[0m\u001b[0;34m\u001b[0m\u001b[0;34m\u001b[0m\u001b[0m\n\u001b[1;32m      9\u001b[0m             \u001b[0mbest_wt\u001b[0m\u001b[0;34m=\u001b[0m \u001b[0mtemp_wt\u001b[0m\u001b[0;34m+\u001b[0m\u001b[0mwt_above\u001b[0m\u001b[0;34m\u001b[0m\u001b[0;34m\u001b[0m\u001b[0m\n",
      "\u001b[0;32m<ipython-input-8-a7351447e352>\u001b[0m in \u001b[0;36mfind_diff_path\u001b[0;34m(st1, st0, SIMON_ROUNDS, n)\u001b[0m\n\u001b[1;32m     13\u001b[0m             \u001b[0mop\u001b[0m\u001b[0;34m=\u001b[0m\u001b[0mhw\u001b[0m\u001b[0;34m[\u001b[0m\u001b[0mrandom\u001b[0m\u001b[0;34m.\u001b[0m\u001b[0mrandint\u001b[0m\u001b[0;34m(\u001b[0m\u001b[0;36m0\u001b[0m\u001b[0;34m,\u001b[0m\u001b[0mlen\u001b[0m\u001b[0;34m(\u001b[0m\u001b[0mhw\u001b[0m\u001b[0;34m)\u001b[0m\u001b[0;34m-\u001b[0m\u001b[0;36m1\u001b[0m\u001b[0;34m)\u001b[0m\u001b[0;34m]\u001b[0m\u001b[0;34m.\u001b[0m\u001b[0mdz\u001b[0m\u001b[0;34m\u001b[0m\u001b[0;34m\u001b[0m\u001b[0m\n\u001b[1;32m     14\u001b[0m             \u001b[0;31m#op=(random.randint(0,mask))\u001b[0m\u001b[0;34m\u001b[0m\u001b[0;34m\u001b[0m\u001b[0;34m\u001b[0m\u001b[0m\n\u001b[0;32m---> 15\u001b[0;31m             \u001b[0mwt\u001b[0m\u001b[0;34m,\u001b[0m\u001b[0mwt1\u001b[0m\u001b[0;34m=\u001b[0m\u001b[0mweightAND\u001b[0m\u001b[0;34m(\u001b[0m\u001b[0mA\u001b[0m\u001b[0;34m,\u001b[0m\u001b[0mB\u001b[0m\u001b[0;34m,\u001b[0m\u001b[0mop\u001b[0m\u001b[0;34m)\u001b[0m\u001b[0;34m\u001b[0m\u001b[0;34m\u001b[0m\u001b[0m\n\u001b[0m\u001b[1;32m     16\u001b[0m         \u001b[0mD\u001b[0m\u001b[0;34m=\u001b[0m\u001b[0mop\u001b[0m\u001b[0;34m^\u001b[0m\u001b[0mC\u001b[0m\u001b[0;34m;\u001b[0m \u001b[0mE\u001b[0m\u001b[0;34m=\u001b[0m\u001b[0mst0\u001b[0m\u001b[0;34m^\u001b[0m\u001b[0mD\u001b[0m\u001b[0;34m\u001b[0m\u001b[0;34m\u001b[0m\u001b[0m\n\u001b[1;32m     17\u001b[0m         \u001b[0;31m#print(wt)\u001b[0m\u001b[0;34m\u001b[0m\u001b[0;34m\u001b[0m\u001b[0;34m\u001b[0m\u001b[0m\n",
      "\u001b[0;32m<ipython-input-3-d11cf70efc79>\u001b[0m in \u001b[0;36mweightAND\u001b[0;34m(alpha1, beta1, gamma1)\u001b[0m\n\u001b[1;32m      1\u001b[0m \u001b[0;32mimport\u001b[0m \u001b[0mmath\u001b[0m\u001b[0;34m\u001b[0m\u001b[0;34m\u001b[0m\u001b[0m\n\u001b[0;32m----> 2\u001b[0;31m \u001b[0;32mdef\u001b[0m \u001b[0mweightAND\u001b[0m\u001b[0;34m(\u001b[0m\u001b[0malpha1\u001b[0m\u001b[0;34m,\u001b[0m\u001b[0mbeta1\u001b[0m\u001b[0;34m,\u001b[0m\u001b[0mgamma1\u001b[0m\u001b[0;34m)\u001b[0m\u001b[0;34m:\u001b[0m\u001b[0;34m\u001b[0m\u001b[0;34m\u001b[0m\u001b[0m\n\u001b[0m\u001b[1;32m      3\u001b[0m     \u001b[0ms\u001b[0m\u001b[0;34m=\u001b[0m\u001b[0;34m(\u001b[0m\u001b[0mgamma1\u001b[0m\u001b[0;34m&\u001b[0m\u001b[0;34m(\u001b[0m\u001b[0;34m~\u001b[0m\u001b[0;34m(\u001b[0m\u001b[0malpha1\u001b[0m\u001b[0;34m^\u001b[0m\u001b[0mbeta1\u001b[0m\u001b[0;34m)\u001b[0m\u001b[0;34m)\u001b[0m\u001b[0;34m)\u001b[0m\u001b[0;34m&\u001b[0m\u001b[0mmask\u001b[0m\u001b[0;34m\u001b[0m\u001b[0;34m\u001b[0m\u001b[0m\n\u001b[1;32m      4\u001b[0m     \u001b[0mtemp\u001b[0m\u001b[0;34m=\u001b[0m\u001b[0mbin\u001b[0m\u001b[0;34m(\u001b[0m\u001b[0;34m(\u001b[0m\u001b[0malpha1\u001b[0m\u001b[0;34m^\u001b[0m\u001b[0mbeta1\u001b[0m\u001b[0;34m)\u001b[0m\u001b[0;34m&\u001b[0m\u001b[0mmask\u001b[0m\u001b[0;34m)\u001b[0m\u001b[0;34m\u001b[0m\u001b[0;34m\u001b[0m\u001b[0m\n\u001b[1;32m      5\u001b[0m     \u001b[0mwt\u001b[0m\u001b[0;34m=\u001b[0m\u001b[0;34m(\u001b[0m\u001b[0mtemp\u001b[0m\u001b[0;34m[\u001b[0m\u001b[0;36m1\u001b[0m\u001b[0;34m:\u001b[0m\u001b[0;34m]\u001b[0m\u001b[0;34m.\u001b[0m\u001b[0mcount\u001b[0m\u001b[0;34m(\u001b[0m\u001b[0;34m\"1\"\u001b[0m\u001b[0;34m)\u001b[0m\u001b[0;34m)\u001b[0m\u001b[0;34m\u001b[0m\u001b[0;34m\u001b[0m\u001b[0m\n",
      "\u001b[0;31mKeyboardInterrupt\u001b[0m: "
     ]
    }
   ],
   "source": [
    "#alpha beta are for left and right circular shift  \n",
    "import random\n",
    "import math \n",
    "alpha, beta, gamma = 1,8,2\n",
    "SIMON_ROUNDS=10\n",
    "SIMON_TYPE=16\n",
    "mask = 2 ** 16 - 1\n",
    "wshift=15\n",
    "dec_list=[0]*22\n",
    "wt_above=0\n",
    "best_wt=999\n",
    "s=9999\n",
    "class NMTS(object):\n",
    "    \"\"\"__init__() functions as the class constructor\"\"\"\n",
    "    def __init__(self, dx=None, dy=None, dz=None, wt=None):\n",
    "        self.dx = dx\n",
    "        self.dy = dy\n",
    "        self.dz = dz\n",
    "        self.wt = wt\n",
    "#highwaylist()\n",
    "hw=[]\n",
    "#nested loop to run number of time\n",
    "highwaylist()\n",
    "ch=2\n",
    "\n",
    "while(best_wt>28):\n",
    "    #st1=(random.randint(0,mask))\n",
    "    #st0=(random.randint(0,mask))\n",
    "    #print(hex(hw[ch].dx),hex(hw[ch].dy))\n",
    "    #best_wt=find_best_path(st1,st0,SIMON_ROUNDS,wt_above,best_wt)\n",
    "    best_wt=find_best_path(hw[ch].dx,hw[ch].dy,SIMON_ROUNDS,wt_above,best_wt)\n",
    "    ch=ch+1\n",
    "    if(best_wt<s):\n",
    "        s=best_wt\n",
    "        print(s,ch)\n",
    "        if(best_wt<33):\n",
    "            print(\"Dec list is:\")   \n",
    "            for i in range(0,SIMON_ROUNDS):    \n",
    "                print(hex(dec_list[i].dx), hex(dec_list[i].dy),hex(dec_list[i].dz),(dec_list[i].wt))\n",
    "\n",
    "print(\"Best weight is:\",best_wt) \n",
    "\n"
   ]
  },
  {
   "cell_type": "code",
   "execution_count": null,
   "metadata": {},
   "outputs": [],
   "source": []
  }
 ],
 "metadata": {
  "kernelspec": {
   "display_name": "Python 3",
   "language": "python",
   "name": "python3"
  },
  "language_info": {
   "codemirror_mode": {
    "name": "ipython",
    "version": 3
   },
   "file_extension": ".py",
   "mimetype": "text/x-python",
   "name": "python",
   "nbconvert_exporter": "python",
   "pygments_lexer": "ipython3",
   "version": "3.7.6"
  }
 },
 "nbformat": 4,
 "nbformat_minor": 2
}
