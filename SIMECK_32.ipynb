{
 "cells": [
  {
   "cell_type": "code",
   "execution_count": 1,
   "metadata": {},
   "outputs": [],
   "source": [
    "def highwaylist():\n",
    "    alph,bet,gam,pro = [],[],[],[]\n",
    "    with open('alph.txt') as ip1, open('bet.txt') as ip2, open('gam.txt') as ip3, open('pro.txt') as ip4:\n",
    "        for i1,i2,i3,i4 in zip(ip1,ip2,ip3,ip4):\n",
    "            hw.append(NMTS(int(i1.strip()),int(i2.strip()),int(i3.strip()),float(i4.strip()))) "
   ]
  },
  {
   "cell_type": "code",
   "execution_count": 2,
   "metadata": {},
   "outputs": [],
   "source": [
    "def mask_1(a,b,wshift):\n",
    "    s1=0\n",
    "    var=0\n",
    "    while(s1==0):\n",
    "        a1=(a<<(wshift))&mask\n",
    "        b1=(b<<(wshift))&mask\n",
    "        s1=a1+b1\n",
    "        if(s1==0):\n",
    "            var=var+1\n",
    "        wshift=wshift-1\n",
    "        mask1=(mask<<var)&mask\n",
    "    return mask1"
   ]
  },
  {
   "cell_type": "code",
   "execution_count": 3,
   "metadata": {},
   "outputs": [],
   "source": [
    "import math\n",
    "def weightAND(alpha1,beta1,gamma1): \n",
    "    s=(gamma1&(~(alpha1^beta1)))&mask\n",
    "    temp=bin((alpha1^beta1)&mask)\n",
    "    wt=(temp[1:].count(\"1\"))\n",
    "    if(s!=0):        \n",
    "        return -200,200\n",
    "    else:\n",
    "        return wt,math.pow(2,-wt)"
   ]
  },
  {
   "cell_type": "code",
   "execution_count": 4,
   "metadata": {},
   "outputs": [],
   "source": [
    "#weightAND(0x80,0x1,0x80)"
   ]
  },
  {
   "cell_type": "code",
   "execution_count": 5,
   "metadata": {},
   "outputs": [],
   "source": [
    "#right circular shifts\n",
    "def ROR(x,r):\n",
    "    x = ((x << (SIMECK_TYPE - r)) + (x >> r)) & mask\n",
    "    return x\n",
    "\n",
    "#left circular shifts\n",
    "def ROL(x,r):\n",
    "    #print(hex(x),hex(x))\n",
    "    x = ((x >> (SIMECK_TYPE - r)) + (x << r)) & mask\n",
    "    #print(hex(x))\n",
    "    return x"
   ]
  },
  {
   "cell_type": "code",
   "execution_count": 6,
   "metadata": {},
   "outputs": [],
   "source": [
    "#x=0x8000\n",
    "#r=2\n",
    "#ROL(x,r)"
   ]
  },
  {
   "cell_type": "code",
   "execution_count": 7,
   "metadata": {},
   "outputs": [],
   "source": [
    "#a=0x2\n",
    "#b=0x82\n",
    "#c=a^b\n",
    "#print(hex(c))"
   ]
  },
  {
   "cell_type": "code",
   "execution_count": 8,
   "metadata": {},
   "outputs": [],
   "source": [
    "def find_diff_path(st1,st0,SIMECK_ROUNDS,n):\n",
    "    lp=1             \n",
    "    temp_wt=0\n",
    "    tempdec_list=[]\n",
    "    for i in range (0,SIMECK_ROUNDS):\n",
    "        #print(hex(st1),hex(st0),hex(alpha),hex(beta))\n",
    "        A=st1\n",
    "        B=ROL(st1,beta)\n",
    "        C=ROL(st1,gamma)\n",
    "        #op=A^B\n",
    "        wt=-200\n",
    "        while(wt==-200):\n",
    "            op=hw[random.randint(0,len(hw)-1)].dz\n",
    "            #op=(random.randint(0,mask))\n",
    "            wt,wt1=weightAND(A,B,op)\n",
    "        D=op^C; E=st0^D\n",
    "        #print(wt)\n",
    "        \n",
    "        tempdec_list.append(NMTS(st1,st0,op,wt)) \n",
    "        temp_wt= temp_wt+tempdec_list[i].wt\n",
    "        \n",
    "        #update state with new valid output differential\n",
    "        st0=st1; st1=E\n",
    "    n=n+1\n",
    "    return tempdec_list, temp_wt, n\n",
    "\n",
    "#if(len(ddt)!=0):\n",
    "#            print(hex(st1),hex(st0))\n",
    "#            index=(random.randint(0,len(ddt)-1))\n",
    "#            temp_op=ddt[index].dz\n",
    "#           temp_wt,temp_wt1=weightAND(A,B,temp_op)\n",
    "#            if(temp_wt!=-200):\n",
    "#                op=temp_op\n",
    "#               wt,wt1=temp_wt,temp_wt1\n",
    "#        else:"
   ]
  },
  {
   "cell_type": "code",
   "execution_count": 9,
   "metadata": {},
   "outputs": [],
   "source": [
    "def find_best_path(st1,st0, SIMECK_ROUNDS, wt_above, best_wt):\n",
    "    #print(hex(st1),hex(st0))\n",
    "    #print(hex(st1),hex(st0),'best_path')\n",
    "    #using n as index value for list\n",
    "    n=0\n",
    "    for r in range(SIMECK_ROUNDS,0,-1):\n",
    "        tempdec_list, temp_wt, n = find_diff_path(st1,st0,r, n)\n",
    "        if((temp_wt+wt_above) < best_wt):\n",
    "            best_wt= temp_wt+wt_above\n",
    "            for i,j in zip(range(n-1,22), range(len(tempdec_list))):\n",
    "                dec_list[i]=(NMTS(tempdec_list[j].dx,tempdec_list[j].dy,tempdec_list[j].dz,tempdec_list[j].wt))\n",
    "        #print(n)\n",
    "        if(n<SIMECK_ROUNDS):\n",
    "            st1=dec_list[n].dx\n",
    "            st0=dec_list[n].dy\n",
    "        wt_above= wt_above+dec_list[n-1].wt\n",
    "    return best_wt"
   ]
  },
  {
   "cell_type": "code",
   "execution_count": 11,
   "metadata": {},
   "outputs": [
    {
     "name": "stdout",
     "output_type": "stream",
     "text": [
      "60 1\n",
      "44 4\n",
      "36 5\n",
      "34 7\n",
      "32 49\n",
      "Dec list is:\n",
      "0x0 0x4000 0x0 0\n",
      "0x4000 0x0 0x0 2\n",
      "0x8000 0x4000 0x0 2\n",
      "0x4001 0x8000 0x0 4\n",
      "0x2 0x4001 0x0 2\n",
      "0x4005 0x2 0x4008 6\n",
      "0xc000 0x4005 0x8000 4\n",
      "0x4004 0xc000 0x4008 4\n",
      "0x0 0x4004 0x0 0\n",
      "0x4004 0x0 0x4000 4\n",
      "0xc008 0x4004 0xc100 4\n",
      "30 50\n",
      "Dec list is:\n",
      "0x0 0x4000 0x0 0\n",
      "0x4000 0x0 0x0 2\n",
      "0x8000 0x4000 0x0 2\n",
      "0x4001 0x8000 0x0 4\n",
      "0x2 0x4001 0x0 2\n",
      "0x4005 0x2 0x4008 6\n",
      "0xc000 0x4005 0x8000 4\n",
      "0x4004 0xc000 0x4008 4\n",
      "0x0 0x4004 0x0 0\n",
      "0x4004 0x0 0x8 4\n",
      "0x8000 0x4004 0x8000 2\n",
      "28 1545\n",
      "Dec list is:\n",
      "0x0 0x4000 0x0 0\n",
      "0x4000 0x0 0x0 2\n",
      "0x8000 0x4000 0x0 2\n",
      "0x4001 0x8000 0x0 4\n",
      "0x2 0x4001 0x0 2\n",
      "0x4005 0x2 0x8 6\n",
      "0x8000 0x4005 0x0 2\n",
      "0x4004 0x8000 0x8 4\n",
      "0x0 0x4004 0x0 0\n",
      "0x4004 0x0 0x8 4\n",
      "0x8000 0x4004 0x0 2\n"
     ]
    },
    {
     "ename": "KeyboardInterrupt",
     "evalue": "",
     "output_type": "error",
     "traceback": [
      "\u001b[0;31m---------------------------------------------------------------------------\u001b[0m",
      "\u001b[0;31mKeyboardInterrupt\u001b[0m                         Traceback (most recent call last)",
      "\u001b[0;32m<ipython-input-11-f6b218e66abb>\u001b[0m in \u001b[0;36m<module>\u001b[0;34m\u001b[0m\n\u001b[1;32m     25\u001b[0m \u001b[0;32mwhile\u001b[0m\u001b[0;34m(\u001b[0m\u001b[0mbest_wt\u001b[0m\u001b[0;34m>\u001b[0m\u001b[0;36m25\u001b[0m\u001b[0;34m)\u001b[0m\u001b[0;34m:\u001b[0m\u001b[0;34m\u001b[0m\u001b[0;34m\u001b[0m\u001b[0m\n\u001b[1;32m     26\u001b[0m     \u001b[0;31m#print(hex(hw[ch].dx),hex(hw[ch].dy))\u001b[0m\u001b[0;34m\u001b[0m\u001b[0;34m\u001b[0m\u001b[0;34m\u001b[0m\u001b[0m\n\u001b[0;32m---> 27\u001b[0;31m     \u001b[0mbest_wt\u001b[0m\u001b[0;34m=\u001b[0m\u001b[0mfind_best_path\u001b[0m\u001b[0;34m(\u001b[0m\u001b[0mhw\u001b[0m\u001b[0;34m[\u001b[0m\u001b[0mch\u001b[0m\u001b[0;34m]\u001b[0m\u001b[0;34m.\u001b[0m\u001b[0mdx\u001b[0m\u001b[0;34m,\u001b[0m\u001b[0mhw\u001b[0m\u001b[0;34m[\u001b[0m\u001b[0mch\u001b[0m\u001b[0;34m]\u001b[0m\u001b[0;34m.\u001b[0m\u001b[0mdy\u001b[0m\u001b[0;34m,\u001b[0m\u001b[0mSIMECK_ROUNDS\u001b[0m\u001b[0;34m,\u001b[0m\u001b[0mwt_above\u001b[0m\u001b[0;34m,\u001b[0m\u001b[0mbest_wt\u001b[0m\u001b[0;34m)\u001b[0m\u001b[0;34m\u001b[0m\u001b[0;34m\u001b[0m\u001b[0m\n\u001b[0m\u001b[1;32m     28\u001b[0m     \u001b[0mch\u001b[0m\u001b[0;34m=\u001b[0m\u001b[0mch\u001b[0m\u001b[0;34m+\u001b[0m\u001b[0;36m1\u001b[0m\u001b[0;34m\u001b[0m\u001b[0;34m\u001b[0m\u001b[0m\n\u001b[1;32m     29\u001b[0m     \u001b[0;32mif\u001b[0m\u001b[0;34m(\u001b[0m\u001b[0mbest_wt\u001b[0m\u001b[0;34m<\u001b[0m\u001b[0ms\u001b[0m\u001b[0;34m)\u001b[0m\u001b[0;34m:\u001b[0m\u001b[0;34m\u001b[0m\u001b[0;34m\u001b[0m\u001b[0m\n",
      "\u001b[0;32m<ipython-input-9-6a011b006753>\u001b[0m in \u001b[0;36mfind_best_path\u001b[0;34m(st1, st0, SIMECK_ROUNDS, wt_above, best_wt)\u001b[0m\n\u001b[1;32m      6\u001b[0m     \u001b[0;32mfor\u001b[0m \u001b[0mr\u001b[0m \u001b[0;32min\u001b[0m \u001b[0mrange\u001b[0m\u001b[0;34m(\u001b[0m\u001b[0mSIMECK_ROUNDS\u001b[0m\u001b[0;34m,\u001b[0m\u001b[0;36m0\u001b[0m\u001b[0;34m,\u001b[0m\u001b[0;34m-\u001b[0m\u001b[0;36m1\u001b[0m\u001b[0;34m)\u001b[0m\u001b[0;34m:\u001b[0m\u001b[0;34m\u001b[0m\u001b[0;34m\u001b[0m\u001b[0m\n\u001b[1;32m      7\u001b[0m         \u001b[0mtempdec_list\u001b[0m\u001b[0;34m,\u001b[0m \u001b[0mtemp_wt\u001b[0m\u001b[0;34m,\u001b[0m \u001b[0mn\u001b[0m \u001b[0;34m=\u001b[0m \u001b[0mfind_diff_path\u001b[0m\u001b[0;34m(\u001b[0m\u001b[0mst1\u001b[0m\u001b[0;34m,\u001b[0m\u001b[0mst0\u001b[0m\u001b[0;34m,\u001b[0m\u001b[0mr\u001b[0m\u001b[0;34m,\u001b[0m \u001b[0mn\u001b[0m\u001b[0;34m)\u001b[0m\u001b[0;34m\u001b[0m\u001b[0;34m\u001b[0m\u001b[0m\n\u001b[0;32m----> 8\u001b[0;31m         \u001b[0;32mif\u001b[0m\u001b[0;34m(\u001b[0m\u001b[0;34m(\u001b[0m\u001b[0mtemp_wt\u001b[0m\u001b[0;34m+\u001b[0m\u001b[0mwt_above\u001b[0m\u001b[0;34m)\u001b[0m \u001b[0;34m<\u001b[0m \u001b[0mbest_wt\u001b[0m\u001b[0;34m)\u001b[0m\u001b[0;34m:\u001b[0m\u001b[0;34m\u001b[0m\u001b[0;34m\u001b[0m\u001b[0m\n\u001b[0m\u001b[1;32m      9\u001b[0m             \u001b[0mbest_wt\u001b[0m\u001b[0;34m=\u001b[0m \u001b[0mtemp_wt\u001b[0m\u001b[0;34m+\u001b[0m\u001b[0mwt_above\u001b[0m\u001b[0;34m\u001b[0m\u001b[0;34m\u001b[0m\u001b[0m\n\u001b[1;32m     10\u001b[0m             \u001b[0;32mfor\u001b[0m \u001b[0mi\u001b[0m\u001b[0;34m,\u001b[0m\u001b[0mj\u001b[0m \u001b[0;32min\u001b[0m \u001b[0mzip\u001b[0m\u001b[0;34m(\u001b[0m\u001b[0mrange\u001b[0m\u001b[0;34m(\u001b[0m\u001b[0mn\u001b[0m\u001b[0;34m-\u001b[0m\u001b[0;36m1\u001b[0m\u001b[0;34m,\u001b[0m\u001b[0;36m22\u001b[0m\u001b[0;34m)\u001b[0m\u001b[0;34m,\u001b[0m \u001b[0mrange\u001b[0m\u001b[0;34m(\u001b[0m\u001b[0mlen\u001b[0m\u001b[0;34m(\u001b[0m\u001b[0mtempdec_list\u001b[0m\u001b[0;34m)\u001b[0m\u001b[0;34m)\u001b[0m\u001b[0;34m)\u001b[0m\u001b[0;34m:\u001b[0m\u001b[0;34m\u001b[0m\u001b[0;34m\u001b[0m\u001b[0m\n",
      "\u001b[0;31mKeyboardInterrupt\u001b[0m: "
     ]
    }
   ],
   "source": [
    "#alpha beta are for left and right circular shift  \n",
    "import random\n",
    "import math \n",
    "beta, gamma = 5,1\n",
    "SIMECK_ROUNDS=11\n",
    "SIMECK_TYPE=16\n",
    "mask = 2 ** 16 - 1\n",
    "wshift=15\n",
    "dec_list=[0]*22\n",
    "wt_above=0\n",
    "best_wt=999\n",
    "s=9999\n",
    "class NMTS(object):\n",
    "    \"\"\"__init__() functions as the class constructor\"\"\"\n",
    "    def __init__(self, dx=None, dy=None, dz=None, wt=None):\n",
    "        self.dx = dx\n",
    "        self.dy = dy\n",
    "        self.dz = dz\n",
    "        self.wt = wt\n",
    "#highwaylist()\n",
    "hw=[]\n",
    "#nested loop to run number of time\n",
    "highwaylist()\n",
    "ch=0\n",
    "while(best_wt>25):\n",
    "    #print(hex(hw[ch].dx),hex(hw[ch].dy))\n",
    "    best_wt=find_best_path(hw[ch].dx,hw[ch].dy,SIMECK_ROUNDS,wt_above,best_wt)\n",
    "    ch=ch+1\n",
    "    if(best_wt<s):\n",
    "        s=best_wt\n",
    "        print(s,ch)\n",
    "        if(best_wt<33):\n",
    "            print(\"Dec list is:\")   \n",
    "            for i in range(0,SIMECK_ROUNDS):    \n",
    "                print(hex(dec_list[i].dx), hex(dec_list[i].dy),hex(dec_list[i].dz),(dec_list[i].wt))\n",
    "\n",
    "print(\"Best weight is:\",best_wt) \n",
    "\n"
   ]
  },
  {
   "cell_type": "code",
   "execution_count": null,
   "metadata": {},
   "outputs": [],
   "source": []
  }
 ],
 "metadata": {
  "kernelspec": {
   "display_name": "Python 3",
   "language": "python",
   "name": "python3"
  },
  "language_info": {
   "codemirror_mode": {
    "name": "ipython",
    "version": 3
   },
   "file_extension": ".py",
   "mimetype": "text/x-python",
   "name": "python",
   "nbconvert_exporter": "python",
   "pygments_lexer": "ipython3",
   "version": "3.7.6"
  }
 },
 "nbformat": 4,
 "nbformat_minor": 2
}
